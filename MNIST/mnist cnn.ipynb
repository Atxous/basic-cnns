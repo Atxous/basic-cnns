{
 "cells": [
  {
   "cell_type": "code",
   "execution_count": 1,
   "id": "88fc426f",
   "metadata": {},
   "outputs": [],
   "source": [
    "import tensorflow as tf\n",
    "import numpy as np\n",
    "\n",
    "tf.random.set_seed(42)\n",
    "\n",
    "(x_train_full, y_train_full), (x_test, y_test) = tf.keras.datasets.mnist.load_data()"
   ]
  },
  {
   "cell_type": "code",
   "execution_count": 2,
   "id": "752752b9",
   "metadata": {},
   "outputs": [
    {
     "data": {
      "text/plain": [
       "<_ShuffleDataset element_spec=(TensorSpec(shape=(28, 28, 1), dtype=tf.float32, name=None), TensorSpec(shape=(), dtype=tf.uint8, name=None))>"
      ]
     },
     "execution_count": 2,
     "metadata": {},
     "output_type": "execute_result"
    }
   ],
   "source": [
    "x_train_full = (np.expand_dims(x_train_full / 255, axis = -1)).astype(np.float32) \n",
    "x_test = np.expand_dims(x_test / 255, axis = -1).astype(np.float32)\n",
    "x_train, y_train = x_train_full[:50000], y_train_full[:50000]\n",
    "x_valid, y_valid = x_train_full[50000:], y_train_full[50000:]\n",
    "train_set = tf.data.Dataset.from_tensor_slices((x_train, y_train))\n",
    "train_set = train_set.shuffle(10000, seed = 42)\n",
    "valid_set = tf.data.Dataset.from_tensor_slices((x_valid, y_valid))\n",
    "test_set = tf.data.Dataset.from_tensor_slices((x_test, y_test))\n",
    "train_set"
   ]
  },
  {
   "cell_type": "code",
   "execution_count": 3,
   "id": "93b8e004",
   "metadata": {},
   "outputs": [],
   "source": [
    "from tensorflow.train import BytesList, FloatList, Int64List, Feature, Features, Example\n",
    "from contextlib import ExitStack\n",
    "\n",
    "def create_example(image, label):\n",
    "    img = tf.io.serialize_tensor(image)\n",
    "    return Example(features = Features(feature = {\"image\": Feature(bytes_list = BytesList(value = [img.numpy()])), \n",
    "                                                 \"label\": Feature(int64_list = Int64List(value = [label]))}))\n",
    "\n",
    "def write_records(name, dataset, n_files = 10):\n",
    "    paths = [\"tfrecords/{}.tfrecord-{:05d}-of-{:05d}\".format(name, index, n_files) for index in range(n_files)]\n",
    "    with ExitStack() as stack:\n",
    "        writers = [stack.enter_context(tf.io.TFRecordWriter(path)) for path in paths]\n",
    "        for index, (image, label) in dataset.enumerate():\n",
    "            file = index % n_files\n",
    "            example = create_example(image, label)\n",
    "            writers[file].write(example.SerializeToString())\n",
    "    return paths\n",
    "\n",
    "train_paths = write_records(\"mnist.train\", train_set)\n",
    "valid_paths = write_records(\"mnist.valid\", valid_set)\n",
    "test_paths = write_records(\"mnist.test\", test_set)"
   ]
  },
  {
   "cell_type": "code",
   "execution_count": 4,
   "id": "cdca833e",
   "metadata": {},
   "outputs": [],
   "source": [
    "def preprocess(tfrecord):\n",
    "    features = {\"image\" : tf.io.FixedLenFeature([], tf.string, default_value = \"\"),\n",
    "               \"label\" : tf.io.FixedLenFeature([], tf.int64, default_value = -1)}\n",
    "    example = tf.io.parse_single_example(tfrecord, features)\n",
    "    image = tf.io.parse_tensor(example[\"image\"], out_type = tf.float32)\n",
    "    image = tf.cast(image, tf.float32)\n",
    "    image = tf.reshape(image, shape = [28, 28, 1])\n",
    "    return image, example[\"label\"]\n",
    "\n",
    "def mnist(filepaths, n_read_threads = 5, shuffle_buffer_size = None, n_parse_threads = 5, batch_size = 32):\n",
    "    dataset = tf.data.TFRecordDataset(filepaths, num_parallel_reads = n_read_threads)\n",
    "    print(dataset)\n",
    "    dataset = dataset.cache()\n",
    "    if shuffle_buffer_size:\n",
    "        dataset = dataset.shuffle(shuffle_buffer_size)\n",
    "    dataset = dataset.map(preprocess, num_parallel_calls = n_parse_threads)\n",
    "    dataset = dataset.batch(batch_size)\n",
    "    return dataset.prefetch(1)"
   ]
  },
  {
   "cell_type": "code",
   "execution_count": 5,
   "id": "554fce34",
   "metadata": {},
   "outputs": [
    {
     "name": "stdout",
     "output_type": "stream",
     "text": [
      "<TFRecordDatasetV2 element_spec=TensorSpec(shape=(), dtype=tf.string, name=None)>\n",
      "<TFRecordDatasetV2 element_spec=TensorSpec(shape=(), dtype=tf.string, name=None)>\n",
      "<TFRecordDatasetV2 element_spec=TensorSpec(shape=(), dtype=tf.string, name=None)>\n"
     ]
    }
   ],
   "source": [
    "train_set = mnist(train_paths, shuffle_buffer_size = 10000)\n",
    "valid_set = mnist(valid_paths)\n",
    "test_set = mnist(test_paths)"
   ]
  },
  {
   "cell_type": "code",
   "execution_count": 6,
   "id": "5eb61568",
   "metadata": {},
   "outputs": [
    {
     "data": {
      "image/png": "[encoded data removed]",
      "text/plain": [
       "<Figure size 640x480 with 10 Axes>"
      ]
     },
     "metadata": {},
     "output_type": "display_data"
    }
   ],
   "source": [
    "import matplotlib.pyplot as plt\n",
    "\n",
    "for x, y in train_set.take(1):\n",
    "    for i in range(10):\n",
    "        plt.subplot(1, 10, i+1)\n",
    "        plt.imshow(x[i].numpy(), cmap = \"binary\")\n",
    "        plt.axis(\"off\")\n",
    "        plt.title(str(y[i].numpy()))"
   ]
  },
  {
   "cell_type": "code",
   "execution_count": 7,
   "id": "dc69aaa2",
   "metadata": {},
   "outputs": [],
   "source": [
    "class DepthPool(tf.keras.layers.Layer):\n",
    "    def __init__(self, pool_size = 2, **kwargs):\n",
    "        super().__init__(**kwargs)\n",
    "        self.pool_size = pool_size\n",
    "        \n",
    "    def call(self, inputs):\n",
    "        shape = tf.shape(inputs)\n",
    "        groups = shape[-1] // self.pool_size\n",
    "        new_shape = tf.concat([shape[:-1], [groups, self.pool_size]], axis = 0)\n",
    "        return tf.reduce_max(tf.reshape(inputs, new_shape), axis = -1)"
   ]
  },
  {
   "cell_type": "code",
   "execution_count": 36,
   "id": "f52d2fff",
   "metadata": {},
   "outputs": [],
   "source": [
    "from functools import partial\n",
    "\n",
    "tf.random.set_seed(42)\n",
    "\n",
    "defaultConv2d = partial(tf.keras.layers.Conv2D, kernel_size = 3, padding = \"same\",\n",
    "                       kernel_initializer = \"he_normal\", use_bias = False)\n",
    "\n",
    "def batchnorm_relu():\n",
    "    return tf.keras.Sequential([\n",
    "        tf.keras.layers.BatchNormalization(),\n",
    "        tf.keras.layers.ReLU()\n",
    "    ])\n",
    "\n",
    "model = tf.keras.Sequential([\n",
    "    defaultConv2d(filters = 64, kernel_size = 3),\n",
    "    batchnorm_relu(),\n",
    "    tf.keras.layers.MaxPool2D(),\n",
    "    defaultConv2d(filters = 64, kernel_size = 3),\n",
    "    batchnorm_relu(),\n",
    "    DepthPool(pool_size = 4),\n",
    "    tf.keras.layers.Flatten(),\n",
    "    tf.keras.layers.Dense(128, kernel_initializer = \"he_normal\"),\n",
    "    batchnorm_relu(),\n",
    "    tf.keras.layers.Dropout(0.5),\n",
    "    tf.keras.layers.Dense(10, activation = \"softmax\")\n",
    "])\n"
   ]
  },
  {
   "cell_type": "code",
   "execution_count": 37,
   "id": "3b7507dc",
   "metadata": {},
   "outputs": [],
   "source": [
    "model.compile(loss = \"sparse_categorical_crossentropy\", optimizer = \"nadam\", metrics = [\"accuracy\"])"
   ]
  },
  {
   "cell_type": "code",
   "execution_count": 38,
   "id": "6078bae5",
   "metadata": {
    "scrolled": false
   },
   "outputs": [
    {
     "name": "stdout",
     "output_type": "stream",
     "text": [
      "Epoch 1/10\n",
      "1563/1563 [==============================] - 32s 20ms/step - loss: 0.1651 - accuracy: 0.9524 - val_loss: 0.0525 - val_accuracy: 0.9840\n",
      "Epoch 2/10\n",
      "1563/1563 [==============================] - 30s 19ms/step - loss: 0.0755 - accuracy: 0.9771 - val_loss: 0.0438 - val_accuracy: 0.9862\n",
      "Epoch 3/10\n",
      "1563/1563 [==============================] - 30s 19ms/step - loss: 0.0576 - accuracy: 0.9826 - val_loss: 0.0391 - val_accuracy: 0.9883\n",
      "Epoch 4/10\n",
      "1563/1563 [==============================] - 30s 19ms/step - loss: 0.0473 - accuracy: 0.9857 - val_loss: 0.0503 - val_accuracy: 0.9865\n",
      "Epoch 5/10\n",
      "1563/1563 [==============================] - 30s 19ms/step - loss: 0.0375 - accuracy: 0.9880 - val_loss: 0.0362 - val_accuracy: 0.9896\n",
      "Epoch 6/10\n",
      "1563/1563 [==============================] - 30s 19ms/step - loss: 0.0327 - accuracy: 0.9896 - val_loss: 0.0348 - val_accuracy: 0.9904\n",
      "Epoch 7/10\n",
      "1563/1563 [==============================] - 30s 19ms/step - loss: 0.0281 - accuracy: 0.9911 - val_loss: 0.0314 - val_accuracy: 0.9913\n",
      "Epoch 8/10\n",
      "1563/1563 [==============================] - 30s 19ms/step - loss: 0.0263 - accuracy: 0.9913 - val_loss: 0.0334 - val_accuracy: 0.9910\n",
      "Epoch 9/10\n",
      "1563/1563 [==============================] - 31s 20ms/step - loss: 0.0202 - accuracy: 0.9935 - val_loss: 0.0344 - val_accuracy: 0.9910\n",
      "Epoch 10/10\n",
      "1563/1563 [==============================] - 32s 20ms/step - loss: 0.0202 - accuracy: 0.9931 - val_loss: 0.0327 - val_accuracy: 0.9912\n"
     ]
    },
    {
     "data": {
      "text/plain": [
       "<keras.callbacks.History at 0x1cb6218d850>"
      ]
     },
     "execution_count": 38,
     "metadata": {},
     "output_type": "execute_result"
    }
   ],
   "source": [
    "model.fit(train_set, epochs = 10, validation_data = valid_set)"
   ]
  },
  {
   "cell_type": "code",
   "execution_count": 39,
   "id": "2c8c6c05",
   "metadata": {},
   "outputs": [
    {
     "name": "stdout",
     "output_type": "stream",
     "text": [
      "313/313 [==============================] - 1s 4ms/step - loss: 0.0327 - accuracy: 0.9912\n"
     ]
    },
    {
     "data": {
      "text/plain": [
       "[0.03271827846765518, 0.9911999702453613]"
      ]
     },
     "execution_count": 39,
     "metadata": {},
     "output_type": "execute_result"
    }
   ],
   "source": [
    "model.evaluate(valid_set)"
   ]
  },
  {
   "cell_type": "code",
   "execution_count": 41,
   "id": "eb880cb5",
   "metadata": {},
   "outputs": [],
   "source": [
    "model.save_weights(\"model_weights/mnist_weights\")"
   ]
  },
  {
   "cell_type": "code",
   "execution_count": null,
   "id": "ea7d46d1",
   "metadata": {},
   "outputs": [],
   "source": []
  }
 ],
 "metadata": {
  "kernelspec": {
   "display_name": "Python 3 (ipykernel)",
   "language": "python",
   "name": "python3"
  },
  "language_info": {
   "codemirror_mode": {
    "name": "ipython",
    "version": 3
   },
   "file_extension": ".py",
   "mimetype": "text/x-python",
   "name": "python",
   "nbconvert_exporter": "python",
   "pygments_lexer": "ipython3",
   "version": "3.9.16"
  }
 },
 "nbformat": 4,
 "nbformat_minor": 5
}
